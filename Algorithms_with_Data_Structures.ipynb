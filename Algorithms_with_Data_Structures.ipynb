{
  "nbformat": 4,
  "nbformat_minor": 0,
  "metadata": {
    "colab": {
      "provenance": []
    },
    "kernelspec": {
      "name": "python3",
      "display_name": "Python 3"
    },
    "language_info": {
      "name": "python"
    }
  },
  "cells": [
    {
      "cell_type": "code",
      "execution_count": null,
      "metadata": {
        "id": "RrAYuB5QIs4x"
      },
      "outputs": [],
      "source": [
        "#Algorithms with Data Structures"
      ]
    },
    {
      "cell_type": "code",
      "source": [
        "#Data structure are containers or collections of Data."
      ],
      "metadata": {
        "id": "fmlC4YMNIyNp"
      },
      "execution_count": null,
      "outputs": []
    },
    {
      "cell_type": "code",
      "source": [
        "#Linear Search\n",
        "\n",
        "def search(arr, target):\n",
        "  for i in range(len(arr)):\n",
        "\n",
        "    if arr[i] == target:\n",
        "      return i\n",
        "\n",
        "\n",
        "arr = [2, 5, 8, 9, 10, 16, 22]\n",
        "target = 10\n",
        "\n",
        "print(search(arr, target))"
      ],
      "metadata": {
        "id": "RB-BhyKVI0wb"
      },
      "execution_count": null,
      "outputs": []
    },
    {
      "cell_type": "code",
      "source": [
        "#Binary Search\n",
        "\n",
        "def binary_itr(arr, start, end, target):\n",
        "    while start <= end:\n",
        "\n",
        "      mid = (start + end) // 2\n",
        "      if arr[mid] < target:\n",
        "        start = mid + 1\n",
        "\n",
        "      elif arr[mid] > target:\n",
        "        en = mid -1\n",
        "      else:\n",
        "        return mid\n",
        "\n",
        "    return start\n",
        "\n",
        "arr = [2, 5, 8, 10, 16, 22, 25]\n",
        "target = 10\n",
        "\n",
        "result = binary_itr(arr, 0, len(arr) -1, target)\n",
        "\n",
        "if result != -1:\n",
        "  print(\"Element is present at index %d\" % result)\n",
        "else:\n",
        "  print(\"Element is not represented in array\")"
      ],
      "metadata": {
        "id": "k8f9HB4DI3G6"
      },
      "execution_count": null,
      "outputs": []
    },
    {
      "cell_type": "code",
      "source": [
        "#Bubble Sort\n",
        "\n",
        "def bubble_optimized(A):\n",
        "    iterations = 0\n",
        "    for i in range(len(A)):\n",
        "      for j in range(len(A)-i-1):\n",
        "        iterations += 1\n",
        "        if A[j] > A[j+1]:\n",
        "            A[j], A[j+1] = A[j+1], A[j]\n",
        "    return A, iterations\n",
        "\n",
        "A = [9, 8, 7, 6, 5, 4, 3, 2, 1]\n",
        "print(bubble_optimized(A))"
      ],
      "metadata": {
        "id": "J1y-XqFDI57Y"
      },
      "execution_count": null,
      "outputs": []
    },
    {
      "cell_type": "code",
      "source": [
        "#Insertion Sort\n",
        "\n",
        "def insert_sort(A):\n",
        "  for j in range(1, len(A)):\n",
        "    key = A[j]\n",
        "    i = j -1\n",
        "    while i >= 0 and A[i] > key:\n",
        "      A[i + 1] = A[i]\n",
        "      i -= 1\n",
        "    A[i +1] = key\n",
        "\n",
        "A = [5, 2, 4, 6, 1, 3]\n",
        "print(insert_sort(A))"
      ],
      "metadata": {
        "id": "wE1KdyCII6BM"
      },
      "execution_count": null,
      "outputs": []
    },
    {
      "cell_type": "code",
      "source": [
        "#Linked Lists\n",
        "\n",
        "class Node:\n",
        "  def __init__(self, data):\n",
        "    self.data = data\n",
        "    self.next = None\n",
        "\n",
        "class LinkedList:\n",
        "  def traversal(self):\n",
        "    first = self.head\n",
        "    while first:\n",
        "      print(first.data)\n",
        "      first = first.next\n",
        "  \n",
        "  def insert_nwe_header(self, new_data):\n",
        "    new_node = Node(new_data)\n",
        "    new_node.next = self.head\n",
        "    self.head = new_node\n",
        "\n",
        "  def search (self, x):\n",
        "    temp = self.head\n",
        "    while temp is not None:\n",
        "      if temp.data == x:\n",
        "        return True\n",
        "      temp = temp.next\n",
        "    else:\n",
        "        return False\n",
        "\n",
        "  def delete_node(self, data):\n",
        "    temp = self.insert_new_header\n",
        "    while temp is not None:\n",
        "      if temp.data == data:\n",
        "        break\n",
        "      prev = temp\n",
        "      temp = temp.next\n",
        "    prev.next = temp.next\n",
        "\n",
        "  def delete_tail(self):\n",
        "    temp = self.head\n",
        "    while temp.nex.next is not None:\n",
        "      temp = temp.next\n",
        "    temp.next = None\n",
        "\n",
        "family = LinkedList()\n",
        "family.head = Node(\"Bob\")\n",
        "wife = Node(\"Amy\")\n",
        "first_kid = Node(\"Max\")\n",
        "second_kid = Node(\"Jenny\")\n",
        "\n",
        "family.head.next = wife\n",
        "wife.next = first_kid\n",
        "first_kid.next = second_kid\n",
        "\n",
        "#family.traversal()\n",
        "family.insert_new_header(\"Dave\")\n",
        "family.delete_tail()\n",
        "family.traversal()\n",
        "print(family.search(\"Bob\"))"
      ],
      "metadata": {
        "id": "Xgu0M6U6I_L0"
      },
      "execution_count": null,
      "outputs": []
    },
    {
      "cell_type": "code",
      "source": [
        "#Hash Tables\n",
        "\n",
        "def sortArray(self, nums):\n",
        "  if len(nums) <= 1:\n",
        "    return nums\n",
        "  mid = len(nums) // 2\n",
        "  left = nums[:mid]\n",
        "  left_sorted = []\n",
        "  while left:\n",
        "    minimums = left[0]\n",
        "    for x in left:\n",
        "      if x < minimum:\n",
        "            minimum = x\n",
        "    left_sorted.append(minimum)\n",
        "    left.remove(minimum)\n",
        "\n",
        "  right = nums[mid:]\n",
        "  right_sorted = []\n",
        "  while right:\n",
        "    minimum = right[0]\n",
        "    for x in right:\n",
        "      if x < minimum:\n",
        "        minimum = x\n",
        "    right_sorted.apend(minimum)\n",
        "    right.remove(minimum)\n",
        "\n",
        "  merged = [minimum]\n",
        "  while left_sorted and right_sorted:\n",
        "    if left_sorted[0] <= right_sorted[0]:\n",
        "      merged.append(left_sorted.pop(0))\n",
        "    else:\n",
        "      merged.append(right_sorted.pop(0))\n",
        "  merged.extend(right_sorted if right_sorted else left_sorted)\n",
        "  return merged"
      ],
      "metadata": {
        "id": "E8Sf2XdlJFxF"
      },
      "execution_count": null,
      "outputs": []
    },
    {
      "cell_type": "code",
      "source": [
        "#Matrix Multiplication\n",
        "\n",
        "#2x2 matrix \"X\"\n",
        "X = [[1, 2], [2, 3]]\n",
        "\n",
        "#2x2 matrix \"Y\"\n",
        "Y = [[2, 3], [3, 4]]\n",
        "\n",
        "#2x2 matrix of \"0\", which added to our answer, gives the answer.\n",
        "result = [[0, 0], [0, 0]]\n",
        "\n",
        "#iterate through rows of X\n",
        "for i in range(len(X)):\n",
        "  #iterate through columns of Y\n",
        "  for j in range(len(Y[0])):\n",
        "    #iterate through rows of Y\n",
        "    for k in range(len(Y)):\n",
        "      result[i][j] += X[i][k] * Y[k][j]\n",
        "\n",
        "print(result)"
      ],
      "metadata": {
        "id": "Brr5n8M8JKWZ"
      },
      "execution_count": null,
      "outputs": []
    },
    {
      "cell_type": "code",
      "source": [
        "#Strassen Algorithm\n",
        "\n",
        "import numpy as np\n",
        "\n",
        "x = np.array([[1, 2], [2, 3]])\n",
        "y = np.array([[2, 3], [3, 4]])\n",
        "\n",
        "def strassen_iter(x, y):\n",
        "\n",
        "    #Splitting the matrices ino quadrants\n",
        "    a, b, c, d = x[0, 0], x[0, 1], x[1, 0], x[1, 1]\n",
        "    e, f, g, h = y[0, 0], y[0, 1], y[1, 0], y[1, 1]\n",
        "\n",
        "    #Compouting the 7 products - this is where the magic happens\n",
        "    p1 = a * (f-h)\n",
        "    p2 = (a + b) * h \n",
        "    p3 = (c + d) * e \n",
        "    p4 = d * (g - e)\n",
        "    p5 = (a + d) * (e +h)\n",
        "    p6 = (b - d) * (g + h)\n",
        "    p7 = (a - c) * (e + f)\n",
        "\n",
        "    #Computing the values of the 4 quadrants of the final matrix c\n",
        "    c1 = (p5 + p4 - p2 + p6) \n",
        "    c2 = (p1 + p2)\n",
        "    c3 = (p3 + p4)\n",
        "    c4 = (p1 + p5 - p3 -p7)\n",
        "\n",
        "    return np.array([[c1, c2], [c3, c4]])\n",
        "\n",
        "print(strassen_iter(x,y))"
      ],
      "metadata": {
        "id": "8EltAc2rJNp2"
      },
      "execution_count": null,
      "outputs": []
    }
  ]
}